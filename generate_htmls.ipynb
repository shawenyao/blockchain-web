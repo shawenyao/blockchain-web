{
 "cells": [
  {
   "cell_type": "code",
   "execution_count": null,
   "metadata": {},
   "outputs": [],
   "source": [
    "import pandas as pd"
   ]
  },
  {
   "cell_type": "code",
   "execution_count": null,
   "metadata": {},
   "outputs": [],
   "source": [
    "attendees = pd.read_excel('C:/Users/Wenyao/Desktop/R/HBS/projects/blockchain/demo.xlsx')\n",
    "attendees.head()"
   ]
  },
  {
   "cell_type": "code",
   "execution_count": null,
   "metadata": {},
   "outputs": [],
   "source": [
    "for index, row in attendees.iterrows():\n",
    "    print(f\"{row['Short Name']}\")\n",
    "    f = open(f\"{row['Short Name']}.html\", \"w\", encoding='utf-8')\n",
    "    f.write(\n",
    "f\"\"\"\n",
    "<!DOCTYPE html>\n",
    "<html>\n",
    "\n",
    "<head>\n",
    "<meta charset='utf-8'/>\n",
    "<title>HBS Chain - {row['First Name']} {row['Last Name']}</title>\n",
    "<script src=\"https://ajax.googleapis.com/ajax/libs/jquery/3.5.1/jquery.min.js\"></script>\n",
    "<script src=\"https://cdn.jsdelivr.net/gh/google/code-prettify@master/loader/run_prettify.js\"></script>\n",
    "<script src=\"https://d3js.org/d3.v3.min.js\"></script>\n",
    "<link rel=\"stylesheet\" href=\"https://jmblog.github.io/color-themes-for-google-code-prettify/themes/tomorrow.min.css\">\n",
    "<link rel=\"stylesheet\" href=\"https://maxcdn.bootstrapcdn.com/font-awesome/4.6.3/css/font-awesome.min.css\"/>\n",
    "<link rel=\"stylesheet\" href=\"css/styles.css\">\n",
    "</head>\n",
    "\n",
    "<body>\n",
    "<h1>Hi, {row['First Name']} {row['Last Name']}!</h1>\n",
    "\n",
    "<p>Welcome to the HBS chain.</p>\n",
    "\n",
    "<button id='blockchain' class=\"btn btn-default has-spinner\">🌕 Blockchain</button>\n",
    "<div id='blockchain_response' style=\"height:600px;width:100%\"></div>\n",
    "\n",
    "<button id='mine' class=\"btn btn-default has-spinner\">⛏️ Mine</button>\n",
    "<pre id='mine_response' style=\"height:115px;width:100%;\" class=\"prettyprint\">\n",
    "</pre>\n",
    "\n",
    "<button id='balance' class=\"btn btn-default has-spinner\">🧾 Check balances</button>\n",
    "<pre id='balance_response' style=\"height:200px;width:100%;\" class=\"prettyprint\">\n",
    "</pre>\n",
    "\n",
    "<button id='transact' class=\"btn btn-default has-spinner\">💳 Transact</button>\n",
    "&nbsp;&nbsp;&nbsp;&nbsp;\n",
    "Recipient: <input id='recipient' type='text'>\n",
    "&nbsp;&nbsp;&nbsp;&nbsp;\n",
    "Amount: <input id='amount' type='number' onfocusout=\"if(this.value<=0){{this.value=0.0001}}\">\n",
    "&nbsp;&nbsp;&nbsp;&nbsp;\n",
    "<button id='oracle' class=\"btn btn-default has-spinner\">💵 $1000</button>\n",
    "&nbsp;&nbsp;&nbsp;&nbsp;\n",
    "<label id=\"transact_error\"></label>\n",
    "<pre id='transact_response' style=\"height:180px;width:100%;\" class=\"prettyprint\">\n",
    "</pre>\n",
    "\n",
    "<button id='pending_transactions' class=\"btn btn-default has-spinner\">⏳ Pending transactions</button>\n",
    "<pre id='pending_transactions_response' style=\"height:210px;width:100%;\" class=\"prettyprint\">\n",
    "</pre>\n",
    "\n",
    "<button id='mynetwork' class=\"btn btn-default has-spinner\">🌐 My network</button>\n",
    "<pre id='mynetwork_response' style=\"height:200px;width:100%;\" class=\"prettyprint\">\n",
    "</pre>\n",
    "\n",
    "<button id='consensus' class=\"btn btn-default has-spinner\">🤝 Consensus</button>\n",
    "<pre id='consensus_response' style=\"height:80px;width:100%;\" class=\"prettyprint\">\n",
    "</pre>\n",
    "\n",
    "<!---\n",
    "<button id='difficulty' class=\"btn btn-default has-spinner\">💪 Difficulty</button>\n",
    "&nbsp;&nbsp;&nbsp;&nbsp;\n",
    "Difficulty: <input id='difficulty_level' type='range' value='3' min='1' max='5' step='1' size='20' oninput=\"difficulty_level_selected.value = difficulty_level.value\">\n",
    "<output id=\"difficulty_level_selected\">3</output>\n",
    "<pre id='difficulty_response' style=\"height:97px;width:100%;\" class=\"prettyprint\">\n",
    "</pre>\n",
    "--->\n",
    "\n",
    "<script src=\"js/query.js\"></script>\n",
    "\n",
    "<script>\n",
    "const port = {row['Port']};\n",
    "node_id = null;\n",
    "</script>\n",
    "\n",
    "</body>\n",
    "\n",
    "</html>\n",
    "\"\"\"\n",
    "    )\n",
    "    f.close()"
   ]
  }
 ],
 "metadata": {
  "interpreter": {
   "hash": "cdec3df41b54c6fa73525b0a867044708b6c2294cfe3ac6049e5655c23996157"
  },
  "kernelspec": {
   "display_name": "Python 3.7.11 64-bit ('base': conda)",
   "name": "python3"
  },
  "language_info": {
   "codemirror_mode": {
    "name": "ipython",
    "version": 3
   },
   "file_extension": ".py",
   "mimetype": "text/x-python",
   "name": "python",
   "nbconvert_exporter": "python",
   "pygments_lexer": "ipython3",
   "version": "3.7.11"
  },
  "orig_nbformat": 4
 },
 "nbformat": 4,
 "nbformat_minor": 2
}
